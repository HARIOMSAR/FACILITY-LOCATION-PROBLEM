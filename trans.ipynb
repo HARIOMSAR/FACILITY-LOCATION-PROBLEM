{
 "cells": [
  {
   "cell_type": "code",
   "execution_count": 73,
   "id": "6c139e2f-8823-4ed9-abde-6250cb096604",
   "metadata": {},
   "outputs": [],
   "source": [
    "import pulp"
   ]
  },
  {
   "cell_type": "code",
   "execution_count": 75,
   "id": "1c42e6b1-c4d4-4eff-9640-74abfbc8e5f6",
   "metadata": {},
   "outputs": [
    {
     "data": {
      "text/plain": [
       "'Define Data'"
      ]
     },
     "execution_count": 75,
     "metadata": {},
     "output_type": "execute_result"
    }
   ],
   "source": [
    "\"\"\"Define Data\"\"\""
   ]
  },
  {
   "cell_type": "code",
   "execution_count": 76,
   "id": "c0c5c833-009b-4df1-914e-4fbc6d51d8d6",
   "metadata": {},
   "outputs": [],
   "source": [
    "str_ct=3\n",
    "wh_ct=2\n",
    "str_dmd=[270,250,160]\n",
    "wh_cap=[1000,1000]\n",
    "wh_fc=[1200,800]\n",
    "tspc=[[4,5,6],[6,4,3]]"
   ]
  },
  {
   "cell_type": "code",
   "execution_count": 46,
   "id": "c226d28b-932a-47c6-a5e8-4b88c608bc12",
   "metadata": {},
   "outputs": [
    {
     "data": {
      "text/plain": [
       "'Define Problem'"
      ]
     },
     "execution_count": 46,
     "metadata": {},
     "output_type": "execute_result"
    }
   ],
   "source": [
    "\"\"\"Define Problem\"\"\""
   ]
  },
  {
   "cell_type": "code",
   "execution_count": 77,
   "id": "6d6297d0-183e-41a8-aed8-6968736eae76",
   "metadata": {},
   "outputs": [],
   "source": [
    "model=pulp.LpProblem(\"FLP\",pulp.LpMinimize)"
   ]
  },
  {
   "cell_type": "code",
   "execution_count": 78,
   "id": "1eff014c-a1dd-4b9c-aecf-4fae578c320a",
   "metadata": {},
   "outputs": [
    {
     "data": {
      "text/plain": [
       "'Define Decision Variable'"
      ]
     },
     "execution_count": 78,
     "metadata": {},
     "output_type": "execute_result"
    }
   ],
   "source": [
    "\"\"\"Define Decision Variable\"\"\""
   ]
  },
  {
   "cell_type": "code",
   "execution_count": 79,
   "id": "693b9284-cf8a-4bf9-ace0-114b032013d2",
   "metadata": {},
   "outputs": [],
   "source": [
    "x1=pulp.LpVariable(\"x1\",0,1,pulp.LpInteger)\n",
    "x2=pulp.LpVariable(\"x2\",0,1,pulp.LpInteger)"
   ]
  },
  {
   "cell_type": "code",
   "execution_count": 80,
   "id": "1ef0858c-ae86-4b65-a283-cf81dbb72e34",
   "metadata": {},
   "outputs": [],
   "source": [
    "y11=pulp.LpVariable(\"y11\",0,1,pulp.LpInteger)\n",
    "y12=pulp.LpVariable(\"y12\",0,1,pulp.LpInteger)\n",
    "y13=pulp.LpVariable(\"y13\",0,1,pulp.LpInteger)\n",
    "y21=pulp.LpVariable(\"y21\",0,1,pulp.LpInteger)\n",
    "y22=pulp.LpVariable(\"y22\",0,1,pulp.LpInteger)\n",
    "y23=pulp.LpVariable(\"y23\",0,1,pulp.LpInteger)"
   ]
  },
  {
   "cell_type": "code",
   "execution_count": 81,
   "id": "8e18f6c2-ea33-4937-abc2-30d2a2078b0d",
   "metadata": {},
   "outputs": [],
   "source": [
    "#we can also write pupl.binary as x and y are taking 0  and 1 only."
   ]
  },
  {
   "cell_type": "code",
   "execution_count": 82,
   "id": "061ec67e-de9d-4f70-b19a-96a6881e7915",
   "metadata": {},
   "outputs": [
    {
     "data": {
      "text/plain": [
       "'ywh1,str1+ywh2,str1=1\\nywh1,str2+ywh2,str2=1\\nywh1,str3+ywh2,str3=1'"
      ]
     },
     "execution_count": 82,
     "metadata": {},
     "output_type": "execute_result"
    }
   ],
   "source": [
    "\"\"\"Define Constraints\"\"\"\n",
    "\"\"\"ywh1,str1+ywh2,str1=1\n",
    "ywh1,str2+ywh2,str2=1\n",
    "ywh1,str3+ywh2,str3=1\"\"\""
   ]
  },
  {
   "cell_type": "code",
   "execution_count": 83,
   "id": "454a8cbb-e89d-47dd-9bba-0dc547d78a1f",
   "metadata": {},
   "outputs": [],
   "source": [
    "model+=y11 + y21==1\n",
    "model+=y12 + y22==1\n",
    "model+=y13 + y23==1"
   ]
  },
  {
   "cell_type": "code",
   "execution_count": 16,
   "id": "5b30b4d9-3adf-4f19-9780-c89e232e7f43",
   "metadata": {},
   "outputs": [
    {
     "data": {
      "text/plain": [
       "' Define Cap Constraint'"
      ]
     },
     "execution_count": 16,
     "metadata": {},
     "output_type": "execute_result"
    }
   ],
   "source": [
    "\"\"\" Define Cap Constraint\"\"\""
   ]
  },
  {
   "cell_type": "code",
   "execution_count": 84,
   "id": "7379d36a-cc67-450b-8bea-5ea146feda7b",
   "metadata": {},
   "outputs": [],
   "source": [
    "model += str_dmd[0]*y11 + str_dmd[1]*y12 + str_dmd +str_dmd[2]*y13 <= wh_cap[0]\n",
    "model += str_dmd[0]*y21 + str_dmd[1]*y22 + str_dmd +str_dmd[2]*y23 <= wh_cap[1]"
   ]
  },
  {
   "cell_type": "code",
   "execution_count": 48,
   "id": "f9b7e6bf-c659-417b-a865-e1b77f9dd628",
   "metadata": {},
   "outputs": [
    {
     "data": {
      "text/plain": [
       "' x activation constraint'"
      ]
     },
     "execution_count": 48,
     "metadata": {},
     "output_type": "execute_result"
    }
   ],
   "source": [
    "\"\"\" x activation constraint\"\"\""
   ]
  },
  {
   "cell_type": "code",
   "execution_count": 85,
   "id": "02190e06-535e-467f-8ca0-43fa4df746f0",
   "metadata": {},
   "outputs": [],
   "source": [
    "model += y11 <= x1\n",
    "model += y12 <= x1\n",
    "model += y13 <= x1\n",
    "model += y21 <= x2\n",
    "model += y22 <= x2\n",
    "model += y23 <= x2"
   ]
  },
  {
   "cell_type": "code",
   "execution_count": 60,
   "id": "22565bfa-ac2d-4537-8fe7-16f8854d51b4",
   "metadata": {},
   "outputs": [
    {
     "data": {
      "text/plain": [
       "' Define Objective Function'"
      ]
     },
     "execution_count": 60,
     "metadata": {},
     "output_type": "execute_result"
    }
   ],
   "source": [
    "\"\"\" Define Objective Function\"\"\""
   ]
  },
  {
   "cell_type": "code",
   "execution_count": 94,
   "id": "5d076be5-7225-4cbf-8cea-12764a7feab1",
   "metadata": {},
   "outputs": [],
   "source": [
    "fc = wh_fc[0]*x1 + wh_fc[1]*x2"
   ]
  },
  {
   "cell_type": "code",
   "execution_count": 95,
   "id": "acc60bf8-32d3-4357-93f0-6ce1a5031204",
   "metadata": {},
   "outputs": [],
   "source": [
    "vc = tspc[0][0]*str_dmd[0]*y11 + tspc[0][1]*str_dmd[1]*y11 + tspc[0][2]*str_dmd[2]*y11 + tspc[1][0]*str_dmd[0]*y21 + tspc[1][1]*str_dmd[1]*y22 + tspc[1][2]*str_dmd[2]*y23"
   ]
  },
  {
   "cell_type": "code",
   "execution_count": 96,
   "id": "a6bb4f0d-35dc-42eb-bdcc-82102234e387",
   "metadata": {},
   "outputs": [],
   "source": [
    "model += fc+vc"
   ]
  },
  {
   "cell_type": "code",
   "execution_count": null,
   "id": "f83756f3-cbb3-42e1-a9d1-c3f765ddf446",
   "metadata": {},
   "outputs": [],
   "source": [
    "\"\"\"define solver\"\"\""
   ]
  },
  {
   "cell_type": "code",
   "execution_count": 97,
   "id": "99bc836b-2fad-4bc9-9046-6024c5680a23",
   "metadata": {},
   "outputs": [],
   "source": [
    "solver = pulp.get_solver(\"PULP_CBC_CMD\")"
   ]
  },
  {
   "cell_type": "code",
   "execution_count": 98,
   "id": "dd1bae6d-2bea-4844-8e36-d490aaae03ce",
   "metadata": {},
   "outputs": [
    {
     "data": {
      "text/plain": [
       "-1"
      ]
     },
     "execution_count": 98,
     "metadata": {},
     "output_type": "execute_result"
    }
   ],
   "source": [
    "model.solve(solver)"
   ]
  },
  {
   "cell_type": "code",
   "execution_count": 99,
   "id": "0a1ee097-18c9-4e58-b98f-a79a1d3b4d1e",
   "metadata": {},
   "outputs": [
    {
     "name": "stdout",
     "output_type": "stream",
     "text": [
      "model status Infeasible\n"
     ]
    }
   ],
   "source": [
    "print(\"model status\" , pulp.LpStatus[model.status])"
   ]
  },
  {
   "cell_type": "code",
   "execution_count": 100,
   "id": "41ae72c2-8859-4655-b306-858b50fbe961",
   "metadata": {},
   "outputs": [
    {
     "name": "stdout",
     "output_type": "stream",
     "text": [
      "total cost 3681.463416\n"
     ]
    }
   ],
   "source": [
    "print(\"total cost\", pulp.value(model.objective))"
   ]
  },
  {
   "cell_type": "code",
   "execution_count": 101,
   "id": "2fe0a308-4bb9-4f58-8f19-1b95c684dba9",
   "metadata": {},
   "outputs": [
    {
     "name": "stdout",
     "output_type": "stream",
     "text": [
      "WH1: 0.7804878\n",
      "WH2: 1.0\n"
     ]
    }
   ],
   "source": [
    "print(\"WH1:\" , x1.varValue)\n",
    "print(\"WH2:\" , x2.varValue)"
   ]
  },
  {
   "cell_type": "code",
   "execution_count": null,
   "id": "e5a1d6ac-0368-4048-b9fe-a21c4f60a2a2",
   "metadata": {},
   "outputs": [],
   "source": []
  }
 ],
 "metadata": {
  "kernelspec": {
   "display_name": "Python 3 (ipykernel)",
   "language": "python",
   "name": "python3"
  },
  "language_info": {
   "codemirror_mode": {
    "name": "ipython",
    "version": 3
   },
   "file_extension": ".py",
   "mimetype": "text/x-python",
   "name": "python",
   "nbconvert_exporter": "python",
   "pygments_lexer": "ipython3",
   "version": "3.9.13"
  }
 },
 "nbformat": 4,
 "nbformat_minor": 5
}
